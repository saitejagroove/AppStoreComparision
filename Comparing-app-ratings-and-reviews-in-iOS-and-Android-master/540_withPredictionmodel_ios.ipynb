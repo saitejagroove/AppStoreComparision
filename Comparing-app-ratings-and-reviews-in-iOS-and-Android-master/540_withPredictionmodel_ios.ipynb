{
 "cells": [
  {
   "cell_type": "code",
   "execution_count": 1,
   "metadata": {},
   "outputs": [],
   "source": [
    "import pandas as pd\n",
    "from sklearn.model_selection import train_test_split\n",
    "from sklearn.pipeline import Pipeline\n",
    "from nltk.stem.snowball import SnowballStemmer\n",
    "from nltk.stem.porter import PorterStemmer\n",
    "from nltk.stem import WordNetLemmatizer\n",
    "from nltk import word_tokenize  \n",
    "from sklearn.feature_extraction.text import TfidfVectorizer ,TfidfTransformer,CountVectorizer\n",
    "from sklearn.decomposition import TruncatedSVD\n",
    "from sklearn.svm import SVR\n",
    "from sklearn.model_selection import GridSearchCV, KFold\n",
    "import nltk\n",
    "import math"
   ]
  },
  {
   "cell_type": "code",
   "execution_count": 2,
   "metadata": {},
   "outputs": [
    {
     "name": "stderr",
     "output_type": "stream",
     "text": [
      "[nltk_data] Downloading package stopwords to C:\\Users\\SAITEJA-\n",
      "[nltk_data]     WORKMACHINE\\AppData\\Roaming\\nltk_data...\n",
      "[nltk_data]   Package stopwords is already up-to-date!\n",
      "[nltk_data] Downloading package wordnet to C:\\Users\\SAITEJA-\n",
      "[nltk_data]     WORKMACHINE\\AppData\\Roaming\\nltk_data...\n",
      "[nltk_data]   Package wordnet is already up-to-date!\n",
      "[nltk_data] Downloading package punkt to C:\\Users\\SAITEJA-\n",
      "[nltk_data]     WORKMACHINE\\AppData\\Roaming\\nltk_data...\n",
      "[nltk_data]   Package punkt is already up-to-date!\n"
     ]
    },
    {
     "data": {
      "text/plain": [
       "True"
      ]
     },
     "execution_count": 2,
     "metadata": {},
     "output_type": "execute_result"
    }
   ],
   "source": [
    "nltk.download('stopwords')\n",
    "nltk.download('wordnet')\n",
    "nltk.download('punkt')"
   ]
  },
  {
   "cell_type": "code",
   "execution_count": 3,
   "metadata": {},
   "outputs": [],
   "source": [
    "df = pd.read_csv(\"ios.txt\")"
   ]
  },
  {
   "cell_type": "code",
   "execution_count": null,
   "metadata": {},
   "outputs": [],
   "source": []
  },
  {
   "cell_type": "code",
   "execution_count": 4,
   "metadata": {},
   "outputs": [],
   "source": [
    "df[\"content\"] = df[\"title\"] +\" \" + df[\"text\"]\n"
   ]
  },
  {
   "cell_type": "code",
   "execution_count": 5,
   "metadata": {},
   "outputs": [],
   "source": [
    "del df['appid']\n",
    "del df['id']\n",
    "del df['text']\n",
    "del df['title']\n",
    "del df['url']\n",
    "del df['userUrl']\n",
    "del df[\"userName\"]\n",
    "del df[\"version\"]\n"
   ]
  },
  {
   "cell_type": "code",
   "execution_count": 6,
   "metadata": {},
   "outputs": [
    {
     "data": {
      "text/html": [
       "<div>\n",
       "<style scoped>\n",
       "    .dataframe tbody tr th:only-of-type {\n",
       "        vertical-align: middle;\n",
       "    }\n",
       "\n",
       "    .dataframe tbody tr th {\n",
       "        vertical-align: top;\n",
       "    }\n",
       "\n",
       "    .dataframe thead th {\n",
       "        text-align: right;\n",
       "    }\n",
       "</style>\n",
       "<table border=\"1\" class=\"dataframe\">\n",
       "  <thead>\n",
       "    <tr style=\"text-align: right;\">\n",
       "      <th></th>\n",
       "      <th>score</th>\n",
       "      <th>content</th>\n",
       "    </tr>\n",
       "  </thead>\n",
       "  <tbody>\n",
       "    <tr>\n",
       "      <td>0</td>\n",
       "      <td>1</td>\n",
       "      <td>Absolutely terrible I am literally writing thi...</td>\n",
       "    </tr>\n",
       "    <tr>\n",
       "      <td>1</td>\n",
       "      <td>2</td>\n",
       "      <td>Give the people what they want Soooo, no matte...</td>\n",
       "    </tr>\n",
       "    <tr>\n",
       "      <td>2</td>\n",
       "      <td>1</td>\n",
       "      <td>Please fix... Well did an update on Tuesday, &amp;...</td>\n",
       "    </tr>\n",
       "    <tr>\n",
       "      <td>3</td>\n",
       "      <td>1</td>\n",
       "      <td>New Update is Trash, Useless (iOS) The new upd...</td>\n",
       "    </tr>\n",
       "    <tr>\n",
       "      <td>4</td>\n",
       "      <td>3</td>\n",
       "      <td>Messenger may have a problem I don’t do review...</td>\n",
       "    </tr>\n",
       "    <tr>\n",
       "      <td>...</td>\n",
       "      <td>...</td>\n",
       "      <td>...</td>\n",
       "    </tr>\n",
       "    <tr>\n",
       "      <td>3896</td>\n",
       "      <td>5</td>\n",
       "      <td>Pink-a-licous While I love the app I do not en...</td>\n",
       "    </tr>\n",
       "    <tr>\n",
       "      <td>3897</td>\n",
       "      <td>3</td>\n",
       "      <td>Rating the app and clothes I’ve found the app ...</td>\n",
       "    </tr>\n",
       "    <tr>\n",
       "      <td>3898</td>\n",
       "      <td>3</td>\n",
       "      <td>Issue I shop in PINK 24/7, but everytime I att...</td>\n",
       "    </tr>\n",
       "    <tr>\n",
       "      <td>3899</td>\n",
       "      <td>3</td>\n",
       "      <td>Wishlist??? I am very confused on why it does ...</td>\n",
       "    </tr>\n",
       "    <tr>\n",
       "      <td>3900</td>\n",
       "      <td>2</td>\n",
       "      <td>love the store but horrible app it’s a great a...</td>\n",
       "    </tr>\n",
       "  </tbody>\n",
       "</table>\n",
       "<p>3901 rows × 2 columns</p>\n",
       "</div>"
      ],
      "text/plain": [
       "      score                                            content\n",
       "0         1  Absolutely terrible I am literally writing thi...\n",
       "1         2  Give the people what they want Soooo, no matte...\n",
       "2         1  Please fix... Well did an update on Tuesday, &...\n",
       "3         1  New Update is Trash, Useless (iOS) The new upd...\n",
       "4         3  Messenger may have a problem I don’t do review...\n",
       "...     ...                                                ...\n",
       "3896      5  Pink-a-licous While I love the app I do not en...\n",
       "3897      3  Rating the app and clothes I’ve found the app ...\n",
       "3898      3  Issue I shop in PINK 24/7, but everytime I att...\n",
       "3899      3  Wishlist??? I am very confused on why it does ...\n",
       "3900      2  love the store but horrible app it’s a great a...\n",
       "\n",
       "[3901 rows x 2 columns]"
      ]
     },
     "execution_count": 6,
     "metadata": {},
     "output_type": "execute_result"
    }
   ],
   "source": [
    "df"
   ]
  },
  {
   "cell_type": "code",
   "execution_count": 7,
   "metadata": {},
   "outputs": [],
   "source": [
    "y = df[\"score\"]\n",
    "X = df.drop(\"score\",axis =1,inplace=False)\n"
   ]
  },
  {
   "cell_type": "code",
   "execution_count": 8,
   "metadata": {},
   "outputs": [
    {
     "name": "stdout",
     "output_type": "stream",
     "text": [
      "(3120, 2) (781, 2)\n"
     ]
    }
   ],
   "source": [
    "X_train,X_test,y_train,y_test = train_test_split(X.index,y,test_size=0.2)\n",
    "df_train=pd.concat([X,y],axis=1).iloc[X_train] # return dataframe train\n",
    "df_test=pd.concat([X,y],axis=1).iloc[X_test] # return dataframe test\n",
    "print(df_train.shape, df_test.shape)"
   ]
  },
  {
   "cell_type": "code",
   "execution_count": 9,
   "metadata": {},
   "outputs": [
    {
     "data": {
      "text/html": [
       "<div>\n",
       "<style scoped>\n",
       "    .dataframe tbody tr th:only-of-type {\n",
       "        vertical-align: middle;\n",
       "    }\n",
       "\n",
       "    .dataframe tbody tr th {\n",
       "        vertical-align: top;\n",
       "    }\n",
       "\n",
       "    .dataframe thead th {\n",
       "        text-align: right;\n",
       "    }\n",
       "</style>\n",
       "<table border=\"1\" class=\"dataframe\">\n",
       "  <thead>\n",
       "    <tr style=\"text-align: right;\">\n",
       "      <th></th>\n",
       "      <th>content</th>\n",
       "      <th>score</th>\n",
       "    </tr>\n",
       "  </thead>\n",
       "  <tbody>\n",
       "    <tr>\n",
       "      <td>681</td>\n",
       "      <td>My favourite app, but still has some room for ...</td>\n",
       "      <td>4</td>\n",
       "    </tr>\n",
       "    <tr>\n",
       "      <td>1562</td>\n",
       "      <td>Works well Updated-I have revised my review to...</td>\n",
       "      <td>5</td>\n",
       "    </tr>\n",
       "    <tr>\n",
       "      <td>569</td>\n",
       "      <td>Reflectly has changed my life Reflectly has ch...</td>\n",
       "      <td>5</td>\n",
       "    </tr>\n",
       "    <tr>\n",
       "      <td>2819</td>\n",
       "      <td>Future Rides Have clear instructions and work ...</td>\n",
       "      <td>2</td>\n",
       "    </tr>\n",
       "    <tr>\n",
       "      <td>2854</td>\n",
       "      <td>The update fixed it Just so everyone knows, th...</td>\n",
       "      <td>5</td>\n",
       "    </tr>\n",
       "    <tr>\n",
       "      <td>...</td>\n",
       "      <td>...</td>\n",
       "      <td>...</td>\n",
       "    </tr>\n",
       "    <tr>\n",
       "      <td>2056</td>\n",
       "      <td>Excellent App, but could use more Languages! I...</td>\n",
       "      <td>5</td>\n",
       "    </tr>\n",
       "    <tr>\n",
       "      <td>2239</td>\n",
       "      <td>Arlo review The app is adequate but not much m...</td>\n",
       "      <td>3</td>\n",
       "    </tr>\n",
       "    <tr>\n",
       "      <td>3682</td>\n",
       "      <td>Where do I start There are many complaints I h...</td>\n",
       "      <td>3</td>\n",
       "    </tr>\n",
       "    <tr>\n",
       "      <td>1769</td>\n",
       "      <td>Tricks you into subscribing to Premium I’m now...</td>\n",
       "      <td>1</td>\n",
       "    </tr>\n",
       "    <tr>\n",
       "      <td>3378</td>\n",
       "      <td>The Pray app is amazing A prayer Mother at my ...</td>\n",
       "      <td>5</td>\n",
       "    </tr>\n",
       "  </tbody>\n",
       "</table>\n",
       "<p>781 rows × 2 columns</p>\n",
       "</div>"
      ],
      "text/plain": [
       "                                                content  score\n",
       "681   My favourite app, but still has some room for ...      4\n",
       "1562  Works well Updated-I have revised my review to...      5\n",
       "569   Reflectly has changed my life Reflectly has ch...      5\n",
       "2819  Future Rides Have clear instructions and work ...      2\n",
       "2854  The update fixed it Just so everyone knows, th...      5\n",
       "...                                                 ...    ...\n",
       "2056  Excellent App, but could use more Languages! I...      5\n",
       "2239  Arlo review The app is adequate but not much m...      3\n",
       "3682  Where do I start There are many complaints I h...      3\n",
       "1769  Tricks you into subscribing to Premium I’m now...      1\n",
       "3378  The Pray app is amazing A prayer Mother at my ...      5\n",
       "\n",
       "[781 rows x 2 columns]"
      ]
     },
     "execution_count": 9,
     "metadata": {},
     "output_type": "execute_result"
    }
   ],
   "source": [
    "df_test"
   ]
  },
  {
   "cell_type": "code",
   "execution_count": 10,
   "metadata": {},
   "outputs": [],
   "source": [
    "text_train=df_train[\"content\"].values\n",
    "text_test = df_test[\"content\"].values\n",
    "y_train= df_train[\"score\"].values\n",
    "y_test = df_test[\"score\"].values"
   ]
  },
  {
   "cell_type": "code",
   "execution_count": 11,
   "metadata": {},
   "outputs": [],
   "source": [
    "class LemmaTokenizer(object):\n",
    "    def __init__(self):\n",
    "        self.wnl = WordNetLemmatizer()\n",
    "    def __call__(self, doc):\n",
    "        return [self.wnl.lemmatize(t) for t in word_tokenize(doc)]"
   ]
  },
  {
   "cell_type": "code",
   "execution_count": 12,
   "metadata": {},
   "outputs": [],
   "source": [
    "stemmer = SnowballStemmer(\"english\", ignore_stopwords=True)"
   ]
  },
  {
   "cell_type": "code",
   "execution_count": 13,
   "metadata": {},
   "outputs": [],
   "source": [
    "class StemmedCountVectorizer(CountVectorizer):\n",
    "    def build_analyzer(self):\n",
    "        analyzer = super(StemmedCountVectorizer, self).build_analyzer()\n",
    "        return lambda doc: ([stemmer.stem(w) for w in analyzer(doc)])"
   ]
  },
  {
   "cell_type": "code",
   "execution_count": 14,
   "metadata": {},
   "outputs": [],
   "source": [
    "stemed_vec = StemmedCountVectorizer(min_df= 2,ngram_range=(1,2),tokenizer = LemmaTokenizer())"
   ]
  },
  {
   "cell_type": "code",
   "execution_count": 15,
   "metadata": {},
   "outputs": [],
   "source": [
    "clf = Pipeline([(\"vec\",stemed_vec),(\"tf-idf\",TfidfTransformer()),\n",
    "\t            (\"SVD\",TruncatedSVD(n_components=3000)),(\"svr\",SVR(C=10,gamma=1,verbose=1))])"
   ]
  },
  {
   "cell_type": "code",
   "execution_count": 16,
   "metadata": {},
   "outputs": [],
   "source": [
    "param_grid = {'svr__C': [0.001, 0.01, 0.1, 1, 10], 'svr__gamma': [0.001, 0.01, 0.1, 1],\n",
    "              'SVD__n_components':[1000,2000,3000,4000],'vec_ngram_range':[(1,1),(1,2),(1,3)],\n",
    "              'tfidf__use_idf': (True, False)}"
   ]
  },
  {
   "cell_type": "code",
   "execution_count": 17,
   "metadata": {},
   "outputs": [],
   "source": [
    "cv = KFold(shuffle=True)\n",
    "grid = GridSearchCV(clf, param_grid=param_grid, cv=cv, verbose=3)"
   ]
  },
  {
   "cell_type": "markdown",
   "metadata": {},
   "source": [
    "#### Fitting the model"
   ]
  },
  {
   "cell_type": "code",
   "execution_count": 18,
   "metadata": {},
   "outputs": [
    {
     "name": "stdout",
     "output_type": "stream",
     "text": [
      "[LibSVM]"
     ]
    },
    {
     "data": {
      "text/plain": [
       "Pipeline(memory=None,\n",
       "         steps=[('vec',\n",
       "                 StemmedCountVectorizer(analyzer='word', binary=False,\n",
       "                                        decode_error='strict',\n",
       "                                        dtype=<class 'numpy.int64'>,\n",
       "                                        encoding='utf-8', input='content',\n",
       "                                        lowercase=True, max_df=1.0,\n",
       "                                        max_features=None, min_df=2,\n",
       "                                        ngram_range=(1, 2), preprocessor=None,\n",
       "                                        stop_words=None, strip_accents=None,\n",
       "                                        token_pattern='(?u)\\\\b\\\\w\\\\w+\\\\b',\n",
       "                                        tokenizer=<__main__.Lem...\n",
       "                                        vocabulary=None)),\n",
       "                ('tf-idf',\n",
       "                 TfidfTransformer(norm='l2', smooth_idf=True,\n",
       "                                  sublinear_tf=False, use_idf=True)),\n",
       "                ('SVD',\n",
       "                 TruncatedSVD(algorithm='randomized', n_components=3000,\n",
       "                              n_iter=5, random_state=None, tol=0.0)),\n",
       "                ('svr',\n",
       "                 SVR(C=10, cache_size=200, coef0=0.0, degree=3, epsilon=0.1,\n",
       "                     gamma=1, kernel='rbf', max_iter=-1, shrinking=True,\n",
       "                     tol=0.001, verbose=1))],\n",
       "         verbose=False)"
      ]
     },
     "execution_count": 18,
     "metadata": {},
     "output_type": "execute_result"
    }
   ],
   "source": [
    "clf.fit(text_train, y_train)"
   ]
  },
  {
   "cell_type": "markdown",
   "metadata": {},
   "source": [
    "#### Prediction"
   ]
  },
  {
   "cell_type": "code",
   "execution_count": 19,
   "metadata": {},
   "outputs": [],
   "source": [
    "y_pred = clf.predict(text_test)\n",
    "#print(y_pred)"
   ]
  },
  {
   "cell_type": "code",
   "execution_count": 59,
   "metadata": {},
   "outputs": [],
   "source": [
    "#Adjust the value to 1~5\n",
    "for i in range(len(y_pred)):\n",
    "\tif (y_pred[i]>5) : y_pred[i]=5\n",
    "\tif (y_pred[i]<1) : y_pred[i]=1"
   ]
  },
  {
   "cell_type": "code",
   "execution_count": 67,
   "metadata": {},
   "outputs": [
    {
     "name": "stdout",
     "output_type": "stream",
     "text": [
      "2 3.0\n",
      "1 1.0\n",
      "5 4.0\n",
      "2 1.0\n",
      "4 3.0\n",
      "3 2.0\n",
      "5 3.0\n",
      "5 3.0\n",
      "4 3.0\n",
      "2 2.0\n",
      "5 3.0\n",
      "5 3.0\n",
      "1 2.0\n",
      "5 4.0\n",
      "5 3.0\n",
      "3 4.0\n",
      "4 5.0\n",
      "3 1.0\n",
      "0.4148527528809219\n"
     ]
    }
   ],
   "source": [
    "y_testreal = df_test[\"score\"].values\n",
    "acc=0\n",
    "for i in range(len(y_testreal)):\n",
    "    if y_test[i]== math.ceil(y_pred[i]):\n",
    "        acc=acc+1\n",
    "    if i <18:\n",
    "        print(y_test[i], round(y_pred[i]))\n",
    "acc = acc/len(y_test)\n",
    "print(acc)"
   ]
  },
  {
   "cell_type": "code",
   "execution_count": 68,
   "metadata": {},
   "outputs": [],
   "source": []
  },
  {
   "cell_type": "code",
   "execution_count": 20,
   "metadata": {},
   "outputs": [],
   "source": [
    "sample = [\"This app has so many updates constantly and you cant even figure out how to make the camera on this app work!! And no it's not my phone, when I go into my camera everything is crystal clear but the minute I go on your app to take a picture it's nothing but blur even when you click on what you want it to focus on... Fix the app with your next update instead of making it worst\",\"I love this app! Its a great way to communicate with friends! I love the amazing filters, and the best part is, when you post on your story its only available to friends so any person cant see it. It is actually also a bit different from having just a private account. To be honest if i could i would rate this 1000000/10\",\"I wanted to talk about a problem.The games in this app are always unfair!!!!Players go against the rules and some of my actions don't even count!!! I'm writing this review because of my own experience and to many others.I personally play the Snapchat Games a lot and I'm not satisfayed with the quality too,only beacuse I have a Samsung???Above all of this I'm satisfayed with the other services,I hope Team Snapchat does something for this,THANK YOU\",\"I love Snapchat. It is a very good texting app that allows many good features. But there is one feature that is needed. Lets say someone is using your Snapchat and tries to go through your private conversations. You should be able to lock conversations so nobody can see. Like...maybe you can enter a certain code to the locked conversation? Just a recommendation. Thanks for your time.\",\"This app is terrible. When ever I check someone's story I have to go out of the app, clear the cache&data which isn't worth it. I have also deleted the app multiple times and then it only works okay for 2 days. Posting on my story and sending and receiving snaps works okay. But when i send or recive a snap with audio it takes a long time to load, MORE THAN 5 MINUTES! And it takes even longer to view audio snaps on others stories. This is the only way to talk to some of my friends. PLEASE FIX!\",\"I am always using the app and it is amazing. I can facetime and ring people at the same time and u cant do that on a regular phone call. I wish i could give it more than 5 stars. I recomend this app for when u want to text people but u have no data or wifi. I am always adding to my story and the best bit is that u can make a group of loads of people and u can name a group or a person. 5 Stars.\",\"It's a great app, however I've recently had a problem where sending anything is taking longer than it should to send. & today i woke up to it not sending anything at all. updated it thinking that'll solve the issue, it has not. it also says i have no internet connection which is wrong & it's definitely not my internet. please fix this\",\" Please fix this app! I have to constantly close and restart the app just to get functions to act like they're supposed to. The app also makes it difficult to view my own story; typically shows a black screen instead of the video or pic I posted. 4/26/2020 update: I have been experiencing technical issues and glitches; submitted bug report and trouble ticket with no luck. PLEASE FIX BUGS AND ISSUES!\",\"I have been using this app from past 2 years I had not faced any problems until few days ago I guess it was because of the new update .. I'm not able to send any messages to anyone all of a sudden.I hope the TeamSnap chat will fix this asap . I use Samsung galaxyA6\",\"It is a really fun way to get photos taken on, snap/snap call friends and family and a great way to meet new people. But I wasn't happy among the amount of inappropriate content that I got when I first joined in the subscriptions page and the people who add you and just want inappropriate things, also it is like insta gram how you can get the tick that you are celebrity which I don't like. But in a good way incompletely free and easy to use\"]\n",
    "samplerealratings= [1,5,3,4,2,5,1,2,3,4]"
   ]
  },
  {
   "cell_type": "code",
   "execution_count": 21,
   "metadata": {},
   "outputs": [],
   "source": [
    " samplepredictions= (clf.predict(sample))"
   ]
  },
  {
   "cell_type": "code",
   "execution_count": 22,
   "metadata": {},
   "outputs": [
    {
     "data": {
      "text/plain": [
       "array([1.29223095, 5.        , 3.66516441, 4.18042029, 1.91766048,\n",
       "       4.88922227, 2.72093886, 1.1390284 , 2.26582551, 4.62813211])"
      ]
     },
     "execution_count": 22,
     "metadata": {},
     "output_type": "execute_result"
    }
   ],
   "source": [
    "for i in range(len(samplepredictions)):\n",
    "    if (samplepredictions[i]>5) : samplepredictions[i]=5\n",
    "    if (samplepredictions[i]<1) : samplepredictions[i]=1\n",
    "        \n",
    "samplepredictions"
   ]
  },
  {
   "cell_type": "code",
   "execution_count": null,
   "metadata": {},
   "outputs": [],
   "source": []
  }
 ],
 "metadata": {
  "kernelspec": {
   "display_name": "Python 3",
   "language": "python",
   "name": "python3"
  },
  "language_info": {
   "codemirror_mode": {
    "name": "ipython",
    "version": 3
   },
   "file_extension": ".py",
   "mimetype": "text/x-python",
   "name": "python",
   "nbconvert_exporter": "python",
   "pygments_lexer": "ipython3",
   "version": "3.7.4"
  }
 },
 "nbformat": 4,
 "nbformat_minor": 4
}
